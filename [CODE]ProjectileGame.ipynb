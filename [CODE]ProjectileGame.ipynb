{
 "cells": [
  {
   "cell_type": "markdown",
   "metadata": {},
   "source": [
    "# Projectile Game - Alex van Lomwel"
   ]
  },
  {
   "cell_type": "markdown",
   "metadata": {},
   "source": []
  },
  {
   "cell_type": "markdown",
   "metadata": {},
   "source": [
    "Importing the necessary functions."
   ]
  },
  {
   "cell_type": "code",
   "execution_count": null,
   "metadata": {},
   "outputs": [],
   "source": [
    "#Import the necessary functions.\n",
    "import numpy as np\n",
    "from vpython import sphere, color, rate, canvas, vector, curve, label, box, cross, mag, random, arrow"
   ]
  },
  {
   "cell_type": "markdown",
   "metadata": {},
   "source": [
    "Creating the canvas."
   ]
  },
  {
   "cell_type": "code",
   "execution_count": null,
   "metadata": {},
   "outputs": [],
   "source": [
    "#Creating the canvas.\n",
    "scene = canvas(width=640, height=480, center=vector(8,5,0),range=8)\n",
    "ground = curve(pos=[(0,0,0),(16,0,0)],color=color.green)\n",
    "\n",
    "#Define the necessary parameters.\n",
    "g = 9.8 # gravitational acceleration, m/s2\n",
    "x0 = 0.0 # initial ball x-coordinate (metres)\n",
    "\n",
    "#Create the target/box.\n",
    "xbox = (random()*10) + 5\n",
    "target = box(pos=vector(xbox,1,0), length=0.5, height=2, width=0.5)\n",
    "\n",
    "#Create platform.\n",
    "yplatform = random()\n",
    "platform = box(pos=vector(-0.25,yplatform*(1/2),0), color=color.cyan, length=0.5, height=yplatform, width=0.25)\n",
    "\n",
    "#Input initial conditions.\n",
    "y0 = yplatform\n",
    "dtheta = float(input(\"Input the initial angle in degrees: \"))\n",
    "print()\n",
    "#Converting theta into radians.\n",
    "theta = dtheta*(np.pi/180)\n",
    "v0 = float(input(\"Input the initial speed in metres/second: \"))\n",
    "print()\n",
    "t = 0\n",
    "yt = 0\n",
    "xt = 0\n",
    "dt = 0.0001\n",
    "\n",
    "#Calculating momentum in the x plane.\n",
    "ballmass = 0.1\n",
    "momentumxplane = ballmass*v0*np.cos(theta)\n",
    "\n",
    "#Calculating momentum in the y plane.\n",
    "momentumyplane = ballmass*v0*np.sin(theta) - ballmass*g*t\n",
    "\n",
    "#Create the animation.\n",
    "movingball = sphere(pos = vector(x0,y0,0),radius = 0.3,make_trail=True, color=color.green)\n",
    "vector1 = arrow(pos=movingball.pos, axis=vector(momentumxplane, momentumyplane,0), shaftwidth=0.2, color=color.cyan)\n",
    "label(pos=movingball.pos, text='This is a box', xoffset=2,\n",
    "    yoffset=2)\n",
    "\n",
    "while yt >= 0 and xt <= (xbox - 0.25) or 1.9 <= yt <= 2.1 and (xbox - 0.25) <= xt <= (xbox + 0.25): \n",
    "    t = t + dt\n",
    "    rate(2500)\n",
    "    xt = x0 + v0*t*np.cos(theta)\n",
    "    yt = y0 + v0*t*np.sin(theta) - (0.5*g*t*t)\n",
    "    movingball.pos = vector(xt,yt,0)\n",
    "    momentumyplane = ballmass*v0*np.sin(theta) - ballmass*g*t\n",
    "    vector1.pos = movingball.pos\n",
    "    vector1.axis = vector(momentumxplane, momentumyplane, 0)\n",
    "    label.pos = movingball.pos\n",
    "\n",
    "if yt<2 and (xbox - 0.251) <= xt <= (xbox+0.251):\n",
    "    print(\"You have hit the target!\")\n",
    "    #Printing data about the flight of the object.\n",
    "    print()\n",
    "    print(\"The time of flight of the ball was: {0:0.2f}\".format(t, t), \"seconds (2 DP).\")\n",
    "    print()\n",
    "    print(\"The vertical displacement was: {0:0.2f}\".format(yt - yplatform, yt - yplatform), \"metres (2 DP).\")\n",
    "    print()\n",
    "    print(\"The horizontal displacement was: {0:0.2f}\".format(xt, xt), \"metres (2 DP)\")\n",
    "else:\n",
    "    while yt >= 0: \n",
    "        t = t + dt\n",
    "        rate(2500)\n",
    "        xt = x0 + v0*t*np.cos(theta)\n",
    "        yt = y0 + v0*t*np.sin(theta) - (0.5*g*t*t)\n",
    "        movingball.pos = vector(xt,yt,0)\n",
    "        momentumyplane = ballmass*v0*np.sin(theta) - ballmass*g*t\n",
    "        vector1.pos = movingball.pos\n",
    "        vector1.axis = vector(momentumxplane, momentumyplane, 0)\n",
    "        \n",
    "    print(\"You have missed the target!\")\n",
    "    print()\n",
    "    #Printing data about the flight of the object.\n",
    "    print(\"The ball landed {0:0.2f}\".format(xt, xt), \"to 2 DP metres away from the platform.\")\n",
    "    print()\n",
    "    print(\"The time of flight of the ball was: {0:0.2f}\".format(t, t), \"seconds (2 DP).\")\n",
    "    print()\n",
    "    print(\"The vertical displacement (relative to the top of the platform) was: {0:0.2f}\".format(yplatform - yt, yplatform - yt), \"metres (2 DP).\")\n",
    "    print()\n",
    "    print(\"The horizontal displacement was: {0:0.2f}\".format(xt, xt), \"metres (2 DP)\")"
   ]
  },
  {
   "cell_type": "code",
   "execution_count": null,
   "metadata": {},
   "outputs": [],
   "source": [
    "random()*(1/2)"
   ]
  },
  {
   "cell_type": "markdown",
   "metadata": {},
   "source": [
    "# Did the target topple?"
   ]
  },
  {
   "cell_type": "code",
   "execution_count": null,
   "metadata": {},
   "outputs": [],
   "source": [
    "#In the x plane.\n",
    "ballmass = 0.1\n",
    "momentumxplane = ballmass*v0*np.cos(theta)\n",
    "\n",
    "#In the y plane.\n",
    "momentumyplane = ballmass*v0*np.sin(theta) - ballmass*g*t\n",
    "\n",
    "#Total momentum.\n",
    "totalmomentum = mag(vector(momentumxplane, momentumyplane, 0))\n",
    "\n",
    "#Calculating the restoring torque.\n",
    "targetmass = 100\n",
    "restoringtorque = cross(vector(0, -9.81*targetmass, 0), vector(0.25, 0, 0))\n",
    "\n",
    "#Calculating the applied force of the ball on the target.\n",
    "forceapplied = totalmomentum/0.01\n",
    "forceappliedvector = 100*vector(momentumxplane, momentumyplane, 0)\n",
    "\n",
    "#Calculating the applied clockwise torque of the ball on the target.\n",
    "torqueapplied = cross(forceappliedvector, vector(0, yt, 0))\n",
    "\n",
    "print(\"The momentum of the ball at the instant it hits the target is:\")\n",
    "print()\n",
    "print(\"{0:0.2f}\".format(momentumxplane, momentumxplane), \"kgm/s to 2 D.P in the x plane.\")\n",
    "print()\n",
    "print(\"{0:0.2f}\".format(momentumyplane, momentumyplane), \"kgm/s to 2 D.P in the y plane.\")\n",
    "print()\n",
    "print(\"{0:0.2f}\".format(totalmomentum, totalmomentum), \"kgm/s to 2 D.P in total.\")\n",
    "print()\n",
    "print(\"The applied torque of the ball on the target was: {0:0.2f}\".format(mag(torqueapplied), mag(torqueapplied)), \"(2 DP)\")\n",
    "print()\n",
    "print(\"The restoring torque of the ball on the target was: {0:0.2f}\".format(mag(restoringtorque), mag(restoringtorque)), \"(2 DP)\")\n",
    "print()\n",
    "\n",
    "#Calculating weather or not the target toppled.\n",
    "if mag(torqueapplied) > mag(restoringtorque):\n",
    "    print(\"\\033[1m\")\n",
    "    print(\"The target toppled and YOU WIN!\")\n",
    "    print(\"\\033[om\")\n",
    "else:\n",
    "    print(\"\\033[1m\")\n",
    "    print(\"You LOSE.\")\n",
    "    print(\"\\033[0m\")"
   ]
  },
  {
   "cell_type": "markdown",
   "metadata": {},
   "source": [
    "# Critique of this programme."
   ]
  },
  {
   "cell_type": "markdown",
   "metadata": {},
   "source": [
    "To improve this programme and make the physic more realistic there are several implications that could be made.\n",
    "\n",
    "This programme ignores air resistance\n",
    "\n",
    "The programme also works as though the bottom right corner of the target is atached to a hinge connected to the ground. The physics could be made more realistic if "
   ]
  },
  {
   "cell_type": "markdown",
   "metadata": {},
   "source": [
    "# Bibliography."
   ]
  },
  {
   "cell_type": "markdown",
   "metadata": {},
   "source": [
    "Glowscript.org. (n.d.). VPython Help. [online] Available at: https://www.glowscript.org/docs/VPythonDocs/index.html [Accessed 10 Jan. 2020].\n",
    "Dash, L. (2020). PHAS0007: Final Assignment 2019/20. [Accessed 5 Jan. 2020].\n",
    "\n",
    "\n",
    "labscript \n",
    "code from session 9"
   ]
  },
  {
   "cell_type": "markdown",
   "metadata": {},
   "source": []
  }
 ],
 "metadata": {
  "kernelspec": {
   "display_name": "Python 3",
   "language": "python",
   "name": "python3"
  },
  "language_info": {
   "codemirror_mode": {
    "name": "ipython",
    "version": 3
   },
   "file_extension": ".py",
   "mimetype": "text/x-python",
   "name": "python",
   "nbconvert_exporter": "python",
   "pygments_lexer": "ipython3",
   "version": "3.7.3"
  }
 },
 "nbformat": 4,
 "nbformat_minor": 2
}
